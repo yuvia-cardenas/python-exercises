{
 "cells": [
  {
   "cell_type": "code",
   "execution_count": 1,
   "id": "1e1576e9",
   "metadata": {},
   "outputs": [],
   "source": [
    "## EXERCISES CONTROL STRUCTURES\n",
    "##Conditional Basics\n",
    "\n",
    "##prompt the user for a day of the week, print out whether the day is Monday or not\n",
    "\n",
    "##prompt the user for a day of the week, print out whether the day is a weekday or a weekend\n",
    "\n",
    "##create variables and make up values for\n",
    "\n",
    "##the number of hours worked in one week\n",
    "##the hourly rate\n",
    "##how much the week's paycheck will be\n",
    "##write the python code that calculates the weekly paycheck. You get paid time and a half if you work more than 40 hours"
   ]
  },
  {
   "cell_type": "code",
   "execution_count": 7,
   "id": "bf4ccfd6",
   "metadata": {},
   "outputs": [
    {
     "name": "stdout",
     "output_type": "stream",
     "text": [
      "What is today?_Tuesday\n",
      "Today is not Monday.\n"
     ]
    }
   ],
   "source": [
    "days_of_the_week = input('What is today?_')\n",
    "\n",
    "if days_of_the_week =='Monday':\n",
    "    print('Today is Monday.')\n",
    "    \n",
    "else:\n",
    "    print('Today is not Monday.')\n"
   ]
  },
  {
   "cell_type": "code",
   "execution_count": 8,
   "id": "82ddbc5e",
   "metadata": {},
   "outputs": [
    {
     "name": "stdout",
     "output_type": "stream",
     "text": [
      "What is today?_Sunday\n",
      "Today is a weekend.\n"
     ]
    }
   ],
   "source": [
    "days_of_the_week = input('What is today?_')\n",
    "\n",
    "if days_of_the_week =='Sunday' or 'Saturday':\n",
    "    print('Today is a weekend.')\n",
    "    \n",
    "else:\n",
    "    print('Today is a weekday.')"
   ]
  },
  {
   "cell_type": "code",
   "execution_count": 11,
   "id": "fac6119f",
   "metadata": {},
   "outputs": [
    {
     "name": "stdout",
     "output_type": "stream",
     "text": [
      "660\n"
     ]
    }
   ],
   "source": [
    "number_of_hours_worked = 30\n",
    "hourly_rate = 22\n",
    "paycheck_total = number_of_hours_worked * hourly_rate\n",
    "\n",
    "print(paycheck_total)"
   ]
  },
  {
   "cell_type": "code",
   "execution_count": 22,
   "id": "4d978a1f",
   "metadata": {},
   "outputs": [
    {
     "name": "stdout",
     "output_type": "stream",
     "text": [
      "704\n"
     ]
    }
   ],
   "source": [
    "number_of_hours_worked = (32)\n",
    "hourly_rate = 22\n",
    "overtime_rate = hourly_rate/ 2 + hourly_rate\n",
    "\n",
    "paycheck_total = number_of_hours_worked * hourly_rate\n",
    "if number_of_hours_worked <= 40 :\n",
    "        \n",
    "    \n",
    "    print(paycheck_total)"
   ]
  },
  {
   "cell_type": "code",
   "execution_count": 35,
   "id": "8e24c4b2",
   "metadata": {},
   "outputs": [
    {
     "name": "stdout",
     "output_type": "stream",
     "text": [
      "With OT 935.0\n"
     ]
    }
   ],
   "source": [
    "number_of_hours_worked = (41)\n",
    "hourly_rate = 22\n",
    "overtime_rate = hourly_rate/ 2 + hourly_rate\n",
    "\n",
    "paycheck_total = number_of_hours_worked * hourly_rate\n",
    "\n",
    "if number_of_hours_worked <= 40 :\n",
    "        \n",
    "    print(f'No OT {paycheck_total}')\n",
    "    \n",
    "if number_of_hours_worked > 40 :\n",
    "    \n",
    "    print(\"With OT\",(number_of_hours_worked - 40) * overtime_rate + paycheck_total)\n",
    "    "
   ]
  },
  {
   "cell_type": "code",
   "execution_count": 36,
   "id": "97ad099f",
   "metadata": {},
   "outputs": [],
   "source": [
    "##Loop Basics While\n",
    "\n",
    "##Create an integer variable i with a value of 5.\n",
    "##Create a while loop that runs so long as i is less than or equal to 15\n",
    "##Each loop iteration, output the current value of i, then increment i by one."
   ]
  },
  {
   "cell_type": "code",
   "execution_count": 37,
   "id": "3c33703f",
   "metadata": {},
   "outputs": [
    {
     "name": "stdout",
     "output_type": "stream",
     "text": [
      "5\n",
      "6\n",
      "7\n",
      "8\n",
      "9\n",
      "10\n",
      "11\n",
      "12\n",
      "13\n",
      "14\n",
      "15\n"
     ]
    }
   ],
   "source": [
    "i = 5\n",
    "while i <= 15:\n",
    "    print(i)\n",
    "    i += 1"
   ]
  },
  {
   "cell_type": "code",
   "execution_count": 72,
   "id": "a6af4d26",
   "metadata": {},
   "outputs": [
    {
     "name": "stdout",
     "output_type": "stream",
     "text": [
      "0\n",
      "2\n",
      "4\n",
      "6\n",
      "8\n",
      "10\n",
      "12\n",
      "14\n",
      "16\n",
      "18\n",
      "20\n",
      "22\n",
      "24\n",
      "26\n",
      "28\n",
      "30\n",
      "32\n",
      "34\n",
      "36\n",
      "38\n",
      "40\n",
      "42\n",
      "44\n",
      "46\n",
      "48\n",
      "50\n",
      "52\n",
      "54\n",
      "56\n",
      "58\n",
      "60\n",
      "62\n",
      "64\n",
      "66\n",
      "68\n",
      "70\n",
      "72\n",
      "74\n",
      "76\n",
      "78\n",
      "80\n",
      "82\n",
      "84\n",
      "86\n",
      "88\n",
      "90\n",
      "92\n",
      "94\n",
      "96\n",
      "98\n",
      "100\n"
     ]
    }
   ],
   "source": [
    "n = 0\n",
    "while n <= 100:\n",
    "    print(n)\n",
    "    n += 2\n",
    "        \n",
    "\n"
   ]
  },
  {
   "cell_type": "code",
   "execution_count": null,
   "id": "cff979c9",
   "metadata": {},
   "outputs": [],
   "source": []
  },
  {
   "cell_type": "code",
   "execution_count": 73,
   "id": "2f1bd064",
   "metadata": {},
   "outputs": [
    {
     "name": "stdout",
     "output_type": "stream",
     "text": [
      "100\n",
      "95\n",
      "90\n",
      "85\n",
      "80\n",
      "75\n",
      "70\n",
      "65\n",
      "60\n",
      "55\n",
      "50\n",
      "45\n",
      "40\n",
      "35\n",
      "30\n",
      "25\n",
      "20\n",
      "15\n",
      "10\n",
      "5\n",
      "0\n",
      "-5\n",
      "-10\n"
     ]
    }
   ],
   "source": [
    "n = 100\n",
    "while n >= -10:\n",
    "    print(n)\n",
    "    n -= 5"
   ]
  },
  {
   "cell_type": "code",
   "execution_count": 74,
   "id": "3dd46dc7",
   "metadata": {},
   "outputs": [
    {
     "name": "stdout",
     "output_type": "stream",
     "text": [
      "2\n",
      "4\n",
      "16\n",
      "256\n",
      "65536\n"
     ]
    }
   ],
   "source": [
    "n = 2\n",
    "while n <= 1000000:\n",
    "    print(n)\n",
    "    n **= 2"
   ]
  },
  {
   "cell_type": "code",
   "execution_count": null,
   "id": "70de5267",
   "metadata": {},
   "outputs": [],
   "source": [
    "n = 100\n",
    "while n >= 5:\n",
    "    print(n)\n",
    "    n -= 5"
   ]
  },
  {
   "cell_type": "code",
   "execution_count": 78,
   "id": "cb7ac78b",
   "metadata": {},
   "outputs": [
    {
     "name": "stdout",
     "output_type": "stream",
     "text": [
      "Enter number to show its multiplication table: 5\n",
      "5 x 1 = 5\n",
      "5 x 2 = 10\n",
      "5 x 3 = 15\n",
      "5 x 4 = 20\n",
      "5 x 5 = 25\n",
      "5 x 6 = 30\n",
      "5 x 7 = 35\n",
      "5 x 8 = 40\n",
      "5 x 9 = 45\n",
      "5 x 10 = 50\n"
     ]
    }
   ],
   "source": [
    "num = int(input('Enter number to show its multiplication table: '))\n",
    "for i in range(1, 11):\n",
    "    print(num, \"x\", i, \"=\", num*i)"
   ]
  },
  {
   "cell_type": "code",
   "execution_count": 198,
   "id": "c11c0a31",
   "metadata": {},
   "outputs": [],
   "source": [
    "##Create a for loop that uses print to create the output shown below.\n"
   ]
  },
  {
   "cell_type": "code",
   "execution_count": 200,
   "id": "2437f8ca",
   "metadata": {},
   "outputs": [
    {
     "name": "stdout",
     "output_type": "stream",
     "text": [
      "1 1\n",
      "1 2\n",
      "1 3\n",
      "1 4\n",
      "1 5\n",
      "1 6\n",
      "1 7\n",
      "1 8\n",
      "1 9\n"
     ]
    }
   ],
   "source": [
    "n = 1\n",
    "for i in range(1, 10):\n",
    "    print(n, n*i)"
   ]
  },
  {
   "cell_type": "code",
   "execution_count": 201,
   "id": "ebfbeb14",
   "metadata": {},
   "outputs": [],
   "source": [
    "#Write a program that prompts the user for a positive integer. \n",
    "#Next write a loop that prints out the numbers \n",
    "#from the number the user entered down to 1."
   ]
  },
  {
   "cell_type": "code",
   "execution_count": 207,
   "id": "a93bbf08",
   "metadata": {},
   "outputs": [
    {
     "name": "stdout",
     "output_type": "stream",
     "text": [
      "Enter a positive number: 4\n",
      "4\n",
      "3\n",
      "2\n",
      "1\n"
     ]
    }
   ],
   "source": [
    "num = int(input(\"Enter a positive number: \"))\n",
    "if num >0:\n",
    "    \n",
    "    i=num\n",
    "while i >= 1:\n",
    "    print(i)\n",
    "    i -= 1"
   ]
  },
  {
   "cell_type": "code",
   "execution_count": 195,
   "id": "3cc78562",
   "metadata": {},
   "outputs": [],
   "source": [
    "## The input function can be used to prompt for input and \n",
    "##use that input in your python code. Prompt the user to enter \n",
    "##a positive number and write a loop that counts from 0 to that number. \n",
    "##(Hints: first make sure that the value the user entered is a valid number, \n",
    "##also note that the input function returns a string, so you'll need to \n",
    "##convert this to a numeric type.)"
   ]
  },
  {
   "cell_type": "code",
   "execution_count": 205,
   "id": "f275a5d8",
   "metadata": {},
   "outputs": [
    {
     "name": "stdout",
     "output_type": "stream",
     "text": [
      "Enter a positive number: 4\n",
      "0\n",
      "1\n",
      "2\n",
      "3\n",
      "4\n"
     ]
    }
   ],
   "source": [
    "num = int(input(\"Enter a positive number: \"))\n",
    "if num >0:\n",
    "    \n",
    "    i=0\n",
    "while i <= num:\n",
    "    print(i)\n",
    "    i += 1"
   ]
  },
  {
   "cell_type": "code",
   "execution_count": 197,
   "id": "ad3486da",
   "metadata": {},
   "outputs": [],
   "source": [
    "##Prompt the user for an odd number between 1 and 50. \n",
    "##Use a loop and a break statement to continue prompting \n",
    "##the user if they enter invalid input. (Hint: use the isdigit method on strings \n",
    "##to determine this). Use a loop and the continue statement to output all the odd numbers \n",
    "##between 1 and 50, except for the number the user entered.\n",
    "\n"
   ]
  },
  {
   "cell_type": "code",
   "execution_count": 194,
   "id": "e5476c8c",
   "metadata": {},
   "outputs": [
    {
     "name": "stdout",
     "output_type": "stream",
     "text": [
      "Enter odd number betweeen 1 and 50: 7\n",
      "1\n",
      "3\n",
      "5\n",
      "9\n",
      "11\n",
      "13\n",
      "15\n",
      "17\n",
      "19\n",
      "21\n",
      "23\n",
      "25\n",
      "27\n",
      "29\n",
      "31\n",
      "33\n",
      "35\n",
      "37\n",
      "39\n",
      "41\n",
      "43\n",
      "45\n",
      "47\n",
      "49\n"
     ]
    }
   ],
   "source": [
    "while True:\n",
    "    n = input('Enter odd number betweeen 1 and 50: ')\n",
    "    \n",
    "    if n.isdigit():\n",
    "        num = int(n)    \n",
    "    if num % 2 != 0:\n",
    "            for num in range(1,50):\n",
    "                if num % 2 == 0:\n",
    "                    continue\n",
    "                if num == int(n):\n",
    "                    continue\n",
    "                else:\n",
    "                      print(num)\n",
    "    \n",
    "    \n",
    "    if not n.isdigit():\n",
    "        print(\"Invalid Entry\")\n",
    "        continue\n",
    "    if num % 2 == 0:\n",
    "        print(\"Invalid Entry\")\n",
    "        continue\n",
    "    else:\n",
    "        break\n",
    "        "
   ]
  },
  {
   "cell_type": "code",
   "execution_count": null,
   "id": "c9611ec1",
   "metadata": {},
   "outputs": [],
   "source": [
    "##Fizzbuzz\n"
   ]
  },
  {
   "cell_type": "code",
   "execution_count": null,
   "id": "4aa6147f",
   "metadata": {},
   "outputs": [],
   "source": []
  },
  {
   "cell_type": "code",
   "execution_count": 171,
   "id": "e88754f7",
   "metadata": {},
   "outputs": [
    {
     "name": "stdout",
     "output_type": "stream",
     "text": [
      "1\n",
      "2\n",
      "Fizz\n",
      "4\n",
      "Buzz\n",
      "Fizz\n",
      "7\n",
      "8\n",
      "Fizz\n",
      "Buzz\n",
      "11\n",
      "Fizz\n",
      "13\n",
      "14\n",
      "FizzBuzz\n",
      "16\n",
      "17\n",
      "Fizz\n",
      "19\n",
      "Buzz\n",
      "Fizz\n",
      "22\n",
      "23\n",
      "Fizz\n",
      "Buzz\n",
      "26\n",
      "Fizz\n",
      "28\n",
      "29\n",
      "FizzBuzz\n",
      "31\n",
      "32\n",
      "Fizz\n",
      "34\n",
      "Buzz\n",
      "Fizz\n",
      "37\n",
      "38\n",
      "Fizz\n",
      "Buzz\n",
      "41\n",
      "Fizz\n",
      "43\n",
      "44\n",
      "FizzBuzz\n",
      "46\n",
      "47\n",
      "Fizz\n",
      "49\n",
      "Buzz\n",
      "Fizz\n",
      "52\n",
      "53\n",
      "Fizz\n",
      "Buzz\n",
      "56\n",
      "Fizz\n",
      "58\n",
      "59\n",
      "FizzBuzz\n",
      "61\n",
      "62\n",
      "Fizz\n",
      "64\n",
      "Buzz\n",
      "Fizz\n",
      "67\n",
      "68\n",
      "Fizz\n",
      "Buzz\n",
      "71\n",
      "Fizz\n",
      "73\n",
      "74\n",
      "FizzBuzz\n",
      "76\n",
      "77\n",
      "Fizz\n",
      "79\n",
      "Buzz\n",
      "Fizz\n",
      "82\n",
      "83\n",
      "Fizz\n",
      "Buzz\n",
      "86\n",
      "Fizz\n",
      "88\n",
      "89\n",
      "FizzBuzz\n",
      "91\n",
      "92\n",
      "Fizz\n",
      "94\n",
      "Buzz\n",
      "Fizz\n",
      "97\n",
      "98\n",
      "Fizz\n",
      "Buzz\n"
     ]
    }
   ],
   "source": [
    "#3. Fizz Buzz\n",
    "\n",
    "for i in range(1, 10):\n",
    "    if i%3 == 0 and i%5 == 0:\n",
    "        print(\"FizzBuzz\")\n",
    "    elif i%3 == 0:\n",
    "        print(\"Fizz\")\n",
    "    elif i%5 == 0:\n",
    "        print(\"Buzz\")\n",
    "    else:\n",
    "        print(i)"
   ]
  },
  {
   "cell_type": "code",
   "execution_count": 208,
   "id": "9e444b38",
   "metadata": {},
   "outputs": [],
   "source": [
    "##while True:\n",
    "##    n = input('Enter odd number betweeen 1 and 50: ')\n",
    "##    if not n.isdigit():\n",
    "##        print(\"Invalid Entry\")\n",
    "##        continue\n",
    "##    else:\n",
    "##        break\n",
    "        \n"
   ]
  },
  {
   "cell_type": "code",
   "execution_count": 209,
   "id": "6e91acf3",
   "metadata": {},
   "outputs": [],
   "source": [
    "#Display a table of powers.\n",
    "\n",
    "#Prompt the user to enter an integer.\n",
    "#Display a table of squares and cubes from 1 to the value entered.\n",
    "#Ask if the user wants to continue.\n",
    "#Assume that the user will enter valid data.\n",
    "#Only continue if the user agrees to."
   ]
  },
  {
   "cell_type": "code",
   "execution_count": 211,
   "id": "562fb6ae",
   "metadata": {},
   "outputs": [
    {
     "name": "stdout",
     "output_type": "stream",
     "text": [
      "What number would you like to go up to?: 5\n",
      "number squared cubed\n",
      "1 1 1\n",
      "2 4 8\n",
      "3 9 27\n",
      "4 16 64\n"
     ]
    }
   ],
   "source": [
    "num = int(input(\"What number would you like to go up to?: \"))\n",
    "print(\"number\", \"squared\", \"cubed\")\n",
    "for i in range(1, num):\n",
    "    print(i ,i**2, i**3 )"
   ]
  },
  {
   "cell_type": "code",
   "execution_count": 212,
   "id": "ba827fa9",
   "metadata": {},
   "outputs": [],
   "source": [
    "##Convert given number grades into letter grades.\n",
    "\n",
    "##Prompt the user for a numerical grade from 0 to 100.\n",
    "##Display the corresponding letter grade.\n",
    "##Prompt the user to continue.\n",
    "##Assume that the user will enter valid integers for the grades.\n",
    "##The application should only continue if the user agrees to."
   ]
  },
  {
   "cell_type": "code",
   "execution_count": 213,
   "id": "8914b80c",
   "metadata": {},
   "outputs": [
    {
     "name": "stdout",
     "output_type": "stream",
     "text": [
      "Enter your score: 66\n",
      "D\n"
     ]
    }
   ],
   "source": [
    "grade = eval(input('Enter your score: '))\n",
    "\n",
    "if grade>=88:\n",
    "    print('A')\n",
    "elif grade>=80:\n",
    "    print('B')\n",
    "elif grade>=67:\n",
    "    print('C')\n",
    "elif grade>=60:\n",
    "    print('D')\n",
    "else:\n",
    "    print('F')\n"
   ]
  },
  {
   "cell_type": "code",
   "execution_count": 215,
   "id": "fee5d459",
   "metadata": {},
   "outputs": [],
   "source": [
    "##Create a list of dictionaries where each dictionary \n",
    "##represents a book that you have read. Each dictionary \n",
    "##in the list should have the keys title, author, and genre. \n",
    "##Loop through the list and print out information about each book.\n",
    "\n",
    "##Prompt the user to enter a genre, then loop through your books list \n",
    "##and print out the titles of all the books in that genre."
   ]
  },
  {
   "cell_type": "code",
   "execution_count": 216,
   "id": "0e006997",
   "metadata": {},
   "outputs": [
    {
     "name": "stdout",
     "output_type": "stream",
     "text": [
      "{'Title': 'Enchanted April', 'Author': 'E. Von Armin', 'Genre': 'Historical Fiction'}\n",
      "{'Title': 'Fault Among the Stars', 'Author': 'John Green', 'Genre': 'Medical Drama'}\n",
      "{'Title': 'Enchanted April', 'Author': 'E. Von Armin', 'Genre': \"Children's Fiction- Fantasy\"}\n"
     ]
    }
   ],
   "source": [
    "books = [{\n",
    "  \"Title\": \"Enchanted April\",\n",
    "  \"Author\": \"E. Von Armin\",\n",
    "  \"Genre\": \"Historical Fiction\"\n",
    "},\n",
    "{\n",
    "    \"Title\": \"Fault Among the Stars\",\n",
    "    \"Author\": \"John Green\",\n",
    "    \"Genre\": \"Medical Drama\"\n",
    "},\n",
    "{\n",
    "    \"Title\": \"Enchanted April\",\n",
    "    \"Author\": \"E. Von Armin\",\n",
    "    \"Genre\": \"Children's Fiction- Fantasy\"\n",
    "}]\n",
    "\n",
    "for book in books:\n",
    "    print(book)"
   ]
  },
  {
   "cell_type": "code",
   "execution_count": null,
   "id": "45441e3c",
   "metadata": {},
   "outputs": [],
   "source": []
  }
 ],
 "metadata": {
  "kernelspec": {
   "display_name": "Python 3 (ipykernel)",
   "language": "python",
   "name": "python3"
  },
  "language_info": {
   "codemirror_mode": {
    "name": "ipython",
    "version": 3
   },
   "file_extension": ".py",
   "mimetype": "text/x-python",
   "name": "python",
   "nbconvert_exporter": "python",
   "pygments_lexer": "ipython3",
   "version": "3.9.12"
  }
 },
 "nbformat": 4,
 "nbformat_minor": 5
}
