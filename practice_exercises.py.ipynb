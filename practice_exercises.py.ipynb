{
 "cells": [
  {
   "cell_type": "code",
   "execution_count": 1,
   "id": "bf3fab1f",
   "metadata": {},
   "outputs": [],
   "source": [
    "# 1. Define a function named is_two. It should accept one input and return True \n",
    "#if the passed input is either the number or the string 2, False otherwise."
   ]
  },
  {
   "cell_type": "code",
   "execution_count": null,
   "id": "45fcfd0d",
   "metadata": {},
   "outputs": [],
   "source": [
    "\n",
    "## add_one = lambda n: n**2\n",
    "## add_one(9)"
   ]
  },
  {
   "cell_type": "code",
   "execution_count": 7,
   "id": "20b386db",
   "metadata": {},
   "outputs": [],
   "source": [
    "def is_two(z):\n",
    "\n",
    "   \n",
    "    if z == '2' or z == 2:\n",
    "        return True\n",
    "    else:\n",
    "        return False"
   ]
  },
  {
   "cell_type": "code",
   "execution_count": 8,
   "id": "70c15784",
   "metadata": {},
   "outputs": [
    {
     "data": {
      "text/plain": [
       "False"
      ]
     },
     "execution_count": 8,
     "metadata": {},
     "output_type": "execute_result"
    }
   ],
   "source": [
    "is_two(3)"
   ]
  },
  {
   "cell_type": "code",
   "execution_count": 2,
   "id": "fda52cf3",
   "metadata": {},
   "outputs": [],
   "source": [
    "# 2. Define a function named is_vowel. It should return True if the passed string \n",
    "#is a vowel, False otherwise."
   ]
  },
  {
   "cell_type": "code",
   "execution_count": 5,
   "id": "028e2223",
   "metadata": {},
   "outputs": [],
   "source": [
    "def is_vowel(string):\n",
    "    if type(string) == str:\n",
    "        if len(string) == 1:\n",
    "            if string in ['a','e','o','i','u']:\n",
    "                return True\n",
    "    else:\n",
    "        return False"
   ]
  },
  {
   "cell_type": "code",
   "execution_count": 13,
   "id": "a56ed44a",
   "metadata": {},
   "outputs": [
    {
     "data": {
      "text/plain": [
       "False"
      ]
     },
     "execution_count": 13,
     "metadata": {},
     "output_type": "execute_result"
    }
   ],
   "source": [
    "is_vowel(\"b\")"
   ]
  },
  {
   "cell_type": "code",
   "execution_count": 3,
   "id": "127a7574",
   "metadata": {},
   "outputs": [],
   "source": [
    "# 3. Define a function named is_consonant. It should return True if the passed \n",
    "#string is a consonant, False otherwise. Use your is_vowel function to accomplish this.\n"
   ]
  },
  {
   "cell_type": "code",
   "execution_count": 7,
   "id": "3b2f9fdf",
   "metadata": {},
   "outputs": [],
   "source": [
    "def is_consonant(string):\n",
    "    if type(string) == str:\n",
    "        if len(string) == 1:\n",
    "    \n",
    "            if string in ['a','e','o','i','u']:\n",
    "                return False\n",
    "    else:\n",
    "        return True"
   ]
  },
  {
   "cell_type": "code",
   "execution_count": 9,
   "id": "7f49d791",
   "metadata": {},
   "outputs": [
    {
     "data": {
      "text/plain": [
       "False"
      ]
     },
     "execution_count": 9,
     "metadata": {},
     "output_type": "execute_result"
    }
   ],
   "source": [
    "is_consonant(\"a\")"
   ]
  },
  {
   "cell_type": "code",
   "execution_count": 34,
   "id": "a5f47604",
   "metadata": {},
   "outputs": [],
   "source": [
    "# 4. Define a function that accepts a string that is a word. The function should \n",
    "#capitalize the first letter of the word if the word starts \n",
    "#with a consonant."
   ]
  },
  {
   "cell_type": "code",
   "execution_count": 27,
   "id": "48df789b",
   "metadata": {},
   "outputs": [],
   "source": [
    "def cap_first_letter(string):\n",
    "    string = string.lower()\n",
    "    if string[0] in ['a','e','o','i','u']:\n",
    "        return string\n",
    "    else:\n",
    "        return string[0].upper() + string[1:]\n",
    "  # returning string indexed 1st letter uppercased + the string indexed 2nd letter \n",
    "#                           colon the rest of the string"
   ]
  },
  {
   "cell_type": "code",
   "execution_count": 24,
   "id": "892018ef",
   "metadata": {},
   "outputs": [
    {
     "data": {
      "text/plain": [
       "'Baby'"
      ]
     },
     "execution_count": 24,
     "metadata": {},
     "output_type": "execute_result"
    }
   ],
   "source": [
    "cap_first_letter('baby')"
   ]
  },
  {
   "cell_type": "code",
   "execution_count": 43,
   "id": "0f685b88",
   "metadata": {},
   "outputs": [],
   "source": [
    "# 5. Define a function named calculate_tip. It should accept a tip percentage \n",
    "#(a number between 0 and 1) \n",
    "#and the bill total, and return the amount to tip."
   ]
  },
  {
   "cell_type": "code",
   "execution_count": 22,
   "id": "27202107",
   "metadata": {},
   "outputs": [],
   "source": [
    "#                    (x, default value)\n",
    "def calculate_tip(bill_total, tip_percentage = 0.2):\n",
    "    return tip_percentage * bill_total\n",
    "    \n",
    "    \n",
    " "
   ]
  },
  {
   "cell_type": "code",
   "execution_count": 23,
   "id": "24e823a6",
   "metadata": {},
   "outputs": [
    {
     "data": {
      "text/plain": [
       "9.0"
      ]
     },
     "execution_count": 23,
     "metadata": {},
     "output_type": "execute_result"
    }
   ],
   "source": [
    "calculate_tip(45)"
   ]
  },
  {
   "cell_type": "code",
   "execution_count": 26,
   "id": "e0e02dba",
   "metadata": {},
   "outputs": [],
   "source": [
    "# 6. Define a function named apply_discount. It should accept a original price, \n",
    "#and a discount percentage, and return the price after the discount is applied.\n"
   ]
  },
  {
   "cell_type": "code",
   "execution_count": 24,
   "id": "10230ab8",
   "metadata": {},
   "outputs": [],
   "source": [
    "def apply_discount(original_price, discount_percentage = .25):\n",
    "    return original_price - (original_price*discount_percentage)"
   ]
  },
  {
   "cell_type": "code",
   "execution_count": 25,
   "id": "415f719e",
   "metadata": {},
   "outputs": [
    {
     "data": {
      "text/plain": [
       "71.25"
      ]
     },
     "execution_count": 25,
     "metadata": {},
     "output_type": "execute_result"
    }
   ],
   "source": [
    "apply_discount(95)"
   ]
  },
  {
   "cell_type": "code",
   "execution_count": 27,
   "id": "d73c7729",
   "metadata": {},
   "outputs": [],
   "source": [
    "# 7. Define a function named handle_commas. It should accept a string that is a number that \n",
    "#contains commas in it as input, and return a number as output."
   ]
  },
  {
   "cell_type": "code",
   "execution_count": 31,
   "id": "bc483c2f",
   "metadata": {},
   "outputs": [],
   "source": [
    "def handle_commas(fakenum):\n",
    "    if type(fakenum) == str:\n",
    "        return int(fakenum.replace(',', ''))\n",
    "    \n",
    "\n",
    "    else:\n",
    "        return fakenum\n"
   ]
  },
  {
   "cell_type": "code",
   "execution_count": 32,
   "id": "bdfd86f7",
   "metadata": {},
   "outputs": [
    {
     "data": {
      "text/plain": [
       "100000"
      ]
     },
     "execution_count": 32,
     "metadata": {},
     "output_type": "execute_result"
    }
   ],
   "source": [
    "handle_commas('100,000')"
   ]
  },
  {
   "cell_type": "code",
   "execution_count": 28,
   "id": "48b6a5a1",
   "metadata": {},
   "outputs": [],
   "source": [
    "# 8. Define a function named get_letter_grade. It should accept a number and return \n",
    "#the letter grade associated with that number (A-F)."
   ]
  },
  {
   "cell_type": "code",
   "execution_count": 41,
   "id": "abc7a9ec",
   "metadata": {},
   "outputs": [],
   "source": [
    "def get_letter_grade(grade):\n",
    "    if grade>=88:\n",
    "        print('A')\n",
    "    elif grade>=80:\n",
    "        print('B')\n",
    "    elif grade>=67:\n",
    "        print('C')\n",
    "    elif grade>=60:\n",
    "        print('D')\n",
    "    else:\n",
    "        print('F')"
   ]
  },
  {
   "cell_type": "code",
   "execution_count": 42,
   "id": "2e777e51",
   "metadata": {},
   "outputs": [
    {
     "name": "stdout",
     "output_type": "stream",
     "text": [
      "A\n"
     ]
    }
   ],
   "source": [
    "get_letter_grade(88)"
   ]
  },
  {
   "cell_type": "code",
   "execution_count": 29,
   "id": "40e042a5",
   "metadata": {},
   "outputs": [],
   "source": [
    "# 9. Define a function named remove_vowels that accepts a string and returns a \n",
    "#string with all the vowels removed."
   ]
  },
  {
   "cell_type": "code",
   "execution_count": 41,
   "id": "1ac5f65f",
   "metadata": {},
   "outputs": [],
   "source": [
    "def remove_vowels(string):\n",
    "    no_vowels = \"\"\n",
    "    for letter in string:\n",
    "        if letter.lower() not in ['a','e','o','i','u']:\n",
    "            no_vowels = no_vowels + letter   \n",
    "    return no_vowels"
   ]
  },
  {
   "cell_type": "code",
   "execution_count": 33,
   "id": "a22541a0",
   "metadata": {},
   "outputs": [
    {
     "data": {
      "text/plain": [
       "'bby'"
      ]
     },
     "execution_count": 33,
     "metadata": {},
     "output_type": "execute_result"
    }
   ],
   "source": [
    "remove_vowels(\"baby\")"
   ]
  },
  {
   "cell_type": "code",
   "execution_count": null,
   "id": "08ceeef3",
   "metadata": {},
   "outputs": [],
   "source": [
    "# 10. Define a function named normalize_name.\n",
    "#It should accept a string and return a valid python identifier, that is:\n",
    "#"
   ]
  },
  {
   "cell_type": "code",
   "execution_count": 46,
   "id": "4923308d",
   "metadata": {},
   "outputs": [],
   "source": [
    "def normalize_name(string):\n",
    "    newstring = ''\n",
    "    for letter in string:\n",
    "        if letter.isidentifier() or letter == ' ':\n",
    "            newstring += letter\n",
    "# the strip removes leading or trailing spaces    \n",
    "    return newstring.strip().lower().replace(' ', '_')"
   ]
  },
  {
   "cell_type": "code",
   "execution_count": 47,
   "id": "225b526e",
   "metadata": {},
   "outputs": [
    {
     "data": {
      "text/plain": [
       "'yuvia'"
      ]
     },
     "execution_count": 47,
     "metadata": {},
     "output_type": "execute_result"
    }
   ],
   "source": [
    "normalize_name(\"Yuvia\")"
   ]
  },
  {
   "cell_type": "code",
   "execution_count": 48,
   "id": "c9372503",
   "metadata": {},
   "outputs": [],
   "source": [
    "# 11. Write a function named cumulative_sum that accepts a list of numbers and returns a list that \n",
    "#is the cumulative sum of the numbers in the list."
   ]
  },
  {
   "cell_type": "code",
   "execution_count": 57,
   "id": "d442466f",
   "metadata": {},
   "outputs": [],
   "source": [
    "def cumulative_sum(oldlist):\n",
    "    newlist = []\n",
    "    for i in range(1,len(oldlist)+1):\n",
    "        cumsum = sum(oldlist[:i])\n",
    "        newlist.append(cumsum)\n",
    "    return newlist"
   ]
  },
  {
   "cell_type": "code",
   "execution_count": 58,
   "id": "d5b4363c",
   "metadata": {},
   "outputs": [
    {
     "data": {
      "text/plain": [
       "[1, 2, 3]"
      ]
     },
     "execution_count": 58,
     "metadata": {},
     "output_type": "execute_result"
    }
   ],
   "source": [
    "cumulative_sum([1, 1, 1])"
   ]
  },
  {
   "cell_type": "code",
   "execution_count": 1,
   "id": "2ebf7399",
   "metadata": {},
   "outputs": [],
   "source": [
    "\n",
    "\n",
    "def remove_vowels(string):\n",
    "    no_vowels = \"\"\n",
    "    for letter in string:\n",
    "        if letter.lower() not in ['a','e','i','o','u']:\n",
    "            no_vowels = no_vowels + letter\n",
    "    return no_vowels"
   ]
  },
  {
   "cell_type": "code",
   "execution_count": 2,
   "id": "ffafcc97",
   "metadata": {},
   "outputs": [],
   "source": [
    "string = \"I am the greatest person for the job of being me.\""
   ]
  },
  {
   "cell_type": "code",
   "execution_count": 3,
   "id": "bf61e055",
   "metadata": {},
   "outputs": [
    {
     "data": {
      "text/plain": [
       "' m th grtst prsn fr th jb f bng m.'"
      ]
     },
     "execution_count": 3,
     "metadata": {},
     "output_type": "execute_result"
    }
   ],
   "source": [
    "remove_vowels(string)"
   ]
  },
  {
   "cell_type": "code",
   "execution_count": 1,
   "id": "e91ad12b",
   "metadata": {},
   "outputs": [],
   "source": [
    "def remove_numbers(string):\n",
    "    no_numbers = \"\"\n",
    "    for letter in string:\n",
    "        # the dot lower is a method and requires paranthesis\n",
    "        if letter.lower() not in ['1','2','3','4','5','6','7','8','9','10']:\n",
    "            no_numbers = no_numbers + letter\n",
    "    return no_numbers"
   ]
  },
  {
   "cell_type": "code",
   "execution_count": 2,
   "id": "e8d9a6c1",
   "metadata": {},
   "outputs": [],
   "source": [
    "string = \"I purchased 3 itmes and 2 services.\""
   ]
  },
  {
   "cell_type": "code",
   "execution_count": 3,
   "id": "8e81b6e3",
   "metadata": {},
   "outputs": [
    {
     "data": {
      "text/plain": [
       "'I purchased  itmes and  services.'"
      ]
     },
     "execution_count": 3,
     "metadata": {},
     "output_type": "execute_result"
    }
   ],
   "source": [
    "remove_numbers(string)"
   ]
  },
  {
   "cell_type": "code",
   "execution_count": null,
   "id": "c88e6aa3",
   "metadata": {},
   "outputs": [],
   "source": []
  }
 ],
 "metadata": {
  "kernelspec": {
   "display_name": "Python 3.8.9 64-bit",
   "language": "python",
   "name": "python3"
  },
  "language_info": {
   "codemirror_mode": {
    "name": "ipython",
    "version": 3
   },
   "file_extension": ".py",
   "mimetype": "text/x-python",
   "name": "python",
   "nbconvert_exporter": "python",
   "pygments_lexer": "ipython3",
   "version": "3.8.9"
  },
  "vscode": {
   "interpreter": {
    "hash": "31f2aee4e71d21fbe5cf8b01ff0e069b9275f58929596ceb00d14d90e3e16cd6"
   }
  }
 },
 "nbformat": 4,
 "nbformat_minor": 5
}
