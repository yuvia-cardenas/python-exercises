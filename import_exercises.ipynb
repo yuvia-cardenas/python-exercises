{
 "cells": [
  {
   "cell_type": "code",
   "execution_count": 3,
   "id": "6c3ca6db",
   "metadata": {},
   "outputs": [],
   "source": [
    "from functions_exercises import get_letter_grade"
   ]
  },
  {
   "cell_type": "code",
   "execution_count": 4,
   "id": "6498aa91",
   "metadata": {},
   "outputs": [
    {
     "name": "stdout",
     "output_type": "stream",
     "text": [
      "A\n"
     ]
    }
   ],
   "source": [
    "get_letter_grade(88)"
   ]
  },
  {
   "cell_type": "code",
   "execution_count": null,
   "id": "33e76670",
   "metadata": {},
   "outputs": [],
   "source": [
    "#How many different ways can you combine the letters \n",
    "#from \"abc\" with the numbers 1, 2, and 3?"
   ]
  },
  {
   "cell_type": "code",
   "execution_count": 33,
   "id": "e8e0b830",
   "metadata": {},
   "outputs": [],
   "source": [
    "from itertools import combinations"
   ]
  },
  {
   "cell_type": "code",
   "execution_count": 67,
   "id": "37882c67",
   "metadata": {},
   "outputs": [
    {
     "data": {
      "text/plain": [
       "20"
      ]
     },
     "metadata": {},
     "output_type": "display_data"
    },
    {
     "data": {
      "text/plain": [
       "[('a', 'b', 'c'),\n",
       " ('a', 'b', '1'),\n",
       " ('a', 'b', '2'),\n",
       " ('a', 'b', '3'),\n",
       " ('a', 'c', '1'),\n",
       " ('a', 'c', '2'),\n",
       " ('a', 'c', '3'),\n",
       " ('a', '1', '2'),\n",
       " ('a', '1', '3'),\n",
       " ('a', '2', '3'),\n",
       " ('b', 'c', '1'),\n",
       " ('b', 'c', '2'),\n",
       " ('b', 'c', '3'),\n",
       " ('b', '1', '2'),\n",
       " ('b', '1', '3'),\n",
       " ('b', '2', '3'),\n",
       " ('c', '1', '2'),\n",
       " ('c', '1', '3'),\n",
       " ('c', '2', '3'),\n",
       " ('1', '2', '3')]"
      ]
     },
     "execution_count": 67,
     "metadata": {},
     "output_type": "execute_result"
    }
   ],
   "source": [
    "from itertools import combinations\n",
    "run = ['a','b','c','1','2','3']\n",
    "combinations_list_1 = list(itertools.combinations(run,3 ))\n",
    "display(len(combinations_list_1))\n",
    "combinations_list_1"
   ]
  },
  {
   "cell_type": "code",
   "execution_count": 22,
   "id": "b5029c6f",
   "metadata": {},
   "outputs": [],
   "source": [
    "##How many different combinations are there \n",
    "#of 2 letters from \"abcd\"?"
   ]
  },
  {
   "cell_type": "code",
   "execution_count": 65,
   "id": "64d0f8c4",
   "metadata": {},
   "outputs": [
    {
     "data": {
      "text/plain": [
       "6"
      ]
     },
     "metadata": {},
     "output_type": "display_data"
    },
    {
     "data": {
      "text/plain": [
       "[('a', 'b'), ('a', 'c'), ('a', 'd'), ('b', 'c'), ('b', 'd'), ('c', 'd')]"
      ]
     },
     "execution_count": 65,
     "metadata": {},
     "output_type": "execute_result"
    }
   ],
   "source": [
    "from itertools import combinations\n",
    "run = ['a','b','c','d']\n",
    "combinations_list_2 = list(itertools.combinations(run,2 ))\n",
    "display(len(combinations_list_2))\n",
    "combinations_list_2"
   ]
  },
  {
   "cell_type": "code",
   "execution_count": 9,
   "id": "ccaf4ac1",
   "metadata": {},
   "outputs": [],
   "source": [
    "##How many different permutations are there of 2 \n",
    "#letters from \"abcd\"?"
   ]
  },
  {
   "cell_type": "code",
   "execution_count": 66,
   "id": "aeeb1399",
   "metadata": {},
   "outputs": [
    {
     "data": {
      "text/plain": [
       "12"
      ]
     },
     "metadata": {},
     "output_type": "display_data"
    },
    {
     "data": {
      "text/plain": [
       "[('a', 'b'),\n",
       " ('a', 'c'),\n",
       " ('a', 'd'),\n",
       " ('b', 'a'),\n",
       " ('b', 'c'),\n",
       " ('b', 'd'),\n",
       " ('c', 'a'),\n",
       " ('c', 'b'),\n",
       " ('c', 'd'),\n",
       " ('d', 'a'),\n",
       " ('d', 'b'),\n",
       " ('d', 'c')]"
      ]
     },
     "execution_count": 66,
     "metadata": {},
     "output_type": "execute_result"
    }
   ],
   "source": [
    "#from itertools import combinations\n",
    "run = ['a','b','c','d']\n",
    "permutations_list_1 = list(itertools.permutations(run,2 ))\n",
    "display(len(permutations_list_1))\n",
    "permutations_list_1"
   ]
  },
  {
   "cell_type": "code",
   "execution_count": 69,
   "id": "fbf48c95",
   "metadata": {},
   "outputs": [],
   "source": [
    "#Total number of users\n",
    "#Number of active users\n",
    "#Grand total of balances for all users\n",
    "#\n",
    "#\n",
    "#\n",
    "#\n",
    "#"
   ]
  },
  {
   "cell_type": "code",
   "execution_count": 70,
   "id": "1a55c435",
   "metadata": {},
   "outputs": [
    {
     "ename": "FileNotFoundError",
     "evalue": "[Errno 2] No such file or directory: 'profiles.json'",
     "output_type": "error",
     "traceback": [
      "\u001b[0;31m---------------------------------------------------------------------------\u001b[0m",
      "\u001b[0;31mFileNotFoundError\u001b[0m                         Traceback (most recent call last)",
      "Input \u001b[0;32mIn [70]\u001b[0m, in \u001b[0;36m<cell line: 3>\u001b[0;34m()\u001b[0m\n\u001b[1;32m      1\u001b[0m \u001b[38;5;28;01mimport\u001b[39;00m \u001b[38;5;21;01mjson\u001b[39;00m\n\u001b[0;32m----> 3\u001b[0m json\u001b[38;5;241m.\u001b[39mload(\u001b[38;5;28;43mopen\u001b[39;49m\u001b[43m(\u001b[49m\u001b[38;5;124;43m'\u001b[39;49m\u001b[38;5;124;43mprofiles.json\u001b[39;49m\u001b[38;5;124;43m'\u001b[39;49m\u001b[43m)\u001b[49m)\n",
      "\u001b[0;31mFileNotFoundError\u001b[0m: [Errno 2] No such file or directory: 'profiles.json'"
     ]
    }
   ],
   "source": [
    "import json\n",
    "\n",
    "json.load(open('profiles.json'))\n"
   ]
  },
  {
   "cell_type": "code",
   "execution_count": null,
   "id": "a99a0367",
   "metadata": {},
   "outputs": [],
   "source": []
  }
 ],
 "metadata": {
  "kernelspec": {
   "display_name": "Python 3 (ipykernel)",
   "language": "python",
   "name": "python3"
  },
  "language_info": {
   "codemirror_mode": {
    "name": "ipython",
    "version": 3
   },
   "file_extension": ".py",
   "mimetype": "text/x-python",
   "name": "python",
   "nbconvert_exporter": "python",
   "pygments_lexer": "ipython3",
   "version": "3.9.12"
  }
 },
 "nbformat": 4,
 "nbformat_minor": 5
}
