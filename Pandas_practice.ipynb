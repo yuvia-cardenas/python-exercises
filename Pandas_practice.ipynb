{
 "cells": [
  {
   "cell_type": "code",
   "execution_count": 56,
   "id": "303aef21",
   "metadata": {},
   "outputs": [
    {
     "data": {
      "text/html": [
       "<div>\n",
       "<style scoped>\n",
       "    .dataframe tbody tr th:only-of-type {\n",
       "        vertical-align: middle;\n",
       "    }\n",
       "\n",
       "    .dataframe tbody tr th {\n",
       "        vertical-align: top;\n",
       "    }\n",
       "\n",
       "    .dataframe thead th {\n",
       "        text-align: right;\n",
       "    }\n",
       "</style>\n",
       "<table border=\"1\" class=\"dataframe\">\n",
       "  <thead>\n",
       "    <tr style=\"text-align: right;\">\n",
       "      <th></th>\n",
       "      <th>total_bill</th>\n",
       "      <th>tip</th>\n",
       "      <th>sex</th>\n",
       "      <th>smoker</th>\n",
       "      <th>day</th>\n",
       "      <th>time</th>\n",
       "      <th>size</th>\n",
       "    </tr>\n",
       "  </thead>\n",
       "  <tbody>\n",
       "    <tr>\n",
       "      <th>1</th>\n",
       "      <td>16.99</td>\n",
       "      <td>1.01</td>\n",
       "      <td>Female</td>\n",
       "      <td>No</td>\n",
       "      <td>Sun</td>\n",
       "      <td>Dinner</td>\n",
       "      <td>2</td>\n",
       "    </tr>\n",
       "    <tr>\n",
       "      <th>2</th>\n",
       "      <td>10.34</td>\n",
       "      <td>1.66</td>\n",
       "      <td>Male</td>\n",
       "      <td>No</td>\n",
       "      <td>Sun</td>\n",
       "      <td>Dinner</td>\n",
       "      <td>3</td>\n",
       "    </tr>\n",
       "    <tr>\n",
       "      <th>3</th>\n",
       "      <td>21.01</td>\n",
       "      <td>3.50</td>\n",
       "      <td>Male</td>\n",
       "      <td>No</td>\n",
       "      <td>Sun</td>\n",
       "      <td>Dinner</td>\n",
       "      <td>3</td>\n",
       "    </tr>\n",
       "    <tr>\n",
       "      <th>4</th>\n",
       "      <td>23.68</td>\n",
       "      <td>3.31</td>\n",
       "      <td>Male</td>\n",
       "      <td>No</td>\n",
       "      <td>Sun</td>\n",
       "      <td>Dinner</td>\n",
       "      <td>2</td>\n",
       "    </tr>\n",
       "    <tr>\n",
       "      <th>5</th>\n",
       "      <td>24.59</td>\n",
       "      <td>3.61</td>\n",
       "      <td>Female</td>\n",
       "      <td>No</td>\n",
       "      <td>Sun</td>\n",
       "      <td>Dinner</td>\n",
       "      <td>4</td>\n",
       "    </tr>\n",
       "  </tbody>\n",
       "</table>\n",
       "</div>"
      ],
      "text/plain": [
       "   total_bill   tip     sex smoker  day    time  size\n",
       "1       16.99  1.01  Female     No  Sun  Dinner     2\n",
       "2       10.34  1.66    Male     No  Sun  Dinner     3\n",
       "3       21.01  3.50    Male     No  Sun  Dinner     3\n",
       "4       23.68  3.31    Male     No  Sun  Dinner     2\n",
       "5       24.59  3.61  Female     No  Sun  Dinner     4"
      ]
     },
     "execution_count": 56,
     "metadata": {},
     "output_type": "execute_result"
    }
   ],
   "source": [
    "# Required Imports and data acquisition\n",
    "import pandas as pd\n",
    "from pydataset import data\n",
    "\n",
    "df = data(\"tips\")\n",
    "df.head()"
   ]
  },
  {
   "cell_type": "code",
   "execution_count": 57,
   "id": "9377cdc9",
   "metadata": {},
   "outputs": [
    {
     "data": {
      "text/html": [
       "<div>\n",
       "<style scoped>\n",
       "    .dataframe tbody tr th:only-of-type {\n",
       "        vertical-align: middle;\n",
       "    }\n",
       "\n",
       "    .dataframe tbody tr th {\n",
       "        vertical-align: top;\n",
       "    }\n",
       "\n",
       "    .dataframe thead th {\n",
       "        text-align: right;\n",
       "    }\n",
       "</style>\n",
       "<table border=\"1\" class=\"dataframe\">\n",
       "  <thead>\n",
       "    <tr style=\"text-align: right;\">\n",
       "      <th></th>\n",
       "      <th>total_bill</th>\n",
       "      <th>tip</th>\n",
       "      <th>sex</th>\n",
       "      <th>smoker</th>\n",
       "      <th>day</th>\n",
       "      <th>time</th>\n",
       "      <th>size</th>\n",
       "    </tr>\n",
       "  </thead>\n",
       "  <tbody>\n",
       "    <tr>\n",
       "      <th>1</th>\n",
       "      <td>16.99</td>\n",
       "      <td>1.01</td>\n",
       "      <td>Female</td>\n",
       "      <td>No</td>\n",
       "      <td>Sun</td>\n",
       "      <td>Dinner</td>\n",
       "      <td>2</td>\n",
       "    </tr>\n",
       "    <tr>\n",
       "      <th>2</th>\n",
       "      <td>10.34</td>\n",
       "      <td>1.66</td>\n",
       "      <td>Male</td>\n",
       "      <td>No</td>\n",
       "      <td>Sun</td>\n",
       "      <td>Dinner</td>\n",
       "      <td>3</td>\n",
       "    </tr>\n",
       "    <tr>\n",
       "      <th>3</th>\n",
       "      <td>21.01</td>\n",
       "      <td>3.50</td>\n",
       "      <td>Male</td>\n",
       "      <td>No</td>\n",
       "      <td>Sun</td>\n",
       "      <td>Dinner</td>\n",
       "      <td>3</td>\n",
       "    </tr>\n",
       "    <tr>\n",
       "      <th>4</th>\n",
       "      <td>23.68</td>\n",
       "      <td>3.31</td>\n",
       "      <td>Male</td>\n",
       "      <td>No</td>\n",
       "      <td>Sun</td>\n",
       "      <td>Dinner</td>\n",
       "      <td>2</td>\n",
       "    </tr>\n",
       "    <tr>\n",
       "      <th>5</th>\n",
       "      <td>24.59</td>\n",
       "      <td>3.61</td>\n",
       "      <td>Female</td>\n",
       "      <td>No</td>\n",
       "      <td>Sun</td>\n",
       "      <td>Dinner</td>\n",
       "      <td>4</td>\n",
       "    </tr>\n",
       "  </tbody>\n",
       "</table>\n",
       "</div>"
      ],
      "text/plain": [
       "   total_bill   tip     sex smoker  day    time  size\n",
       "1       16.99  1.01  Female     No  Sun  Dinner     2\n",
       "2       10.34  1.66    Male     No  Sun  Dinner     3\n",
       "3       21.01  3.50    Male     No  Sun  Dinner     3\n",
       "4       23.68  3.31    Male     No  Sun  Dinner     2\n",
       "5       24.59  3.61  Female     No  Sun  Dinner     4"
      ]
     },
     "execution_count": 57,
     "metadata": {},
     "output_type": "execute_result"
    }
   ],
   "source": [
    "df = data(\"tips\")\n",
    "df.head()"
   ]
  },
  {
   "cell_type": "code",
   "execution_count": 58,
   "id": "27376121",
   "metadata": {},
   "outputs": [
    {
     "name": "stdout",
     "output_type": "stream",
     "text": [
      "Exercise 0 example exercise is complete.\n"
     ]
    }
   ],
   "source": [
    "# This example function is solved below:\n",
    "def exercise0(df):\n",
    "    return len(df)\n",
    "\n",
    "assert exercise0(df) == 244\n",
    "print(\"Exercise 0 example exercise is complete.\")"
   ]
  },
  {
   "attachments": {},
   "cell_type": "markdown",
   "id": "99768a86",
   "metadata": {},
   "source": [
    "####  Write a function named `exercise1`\n",
    "- Use the cell below to write your code\n",
    "- This function should accept a dataframe as its input argument\n",
    "- This function should return the highest `total_bill` value from the tips dataframe"
   ]
  },
  {
   "cell_type": "code",
   "execution_count": 59,
   "id": "7f09aced",
   "metadata": {},
   "outputs": [
    {
     "name": "stdout",
     "output_type": "stream",
     "text": [
      "Exercise 1 is complete\n"
     ]
    }
   ],
   "source": [
    "def exercise1(df):\n",
    "    highest_bill = df.total_bill.sort_values().tail(1)\n",
    "    return highest_bill.item()\n",
    "\n",
    "assert exercise1(df) == 50.81\n",
    "print(\"Exercise 1 is complete\") "
   ]
  },
  {
   "cell_type": "code",
   "execution_count": 60,
   "id": "061f89c7",
   "metadata": {},
   "outputs": [],
   "source": [
    "## the .item() was key to assert function"
   ]
  },
  {
   "attachments": {},
   "cell_type": "markdown",
   "id": "358c9c41",
   "metadata": {},
   "source": [
    "####  Write a function named `exercise2`\n",
    "- Use the cell below to write your code\n",
    "- This function should return the number of different days in the `day` column.\n",
    "- This function should accept a dataframe as its input argument."
   ]
  },
  {
   "cell_type": "code",
   "execution_count": 61,
   "id": "1ecc35fe",
   "metadata": {},
   "outputs": [
    {
     "name": "stdout",
     "output_type": "stream",
     "text": [
      "Exercise 2 is complete\n"
     ]
    }
   ],
   "source": [
    "def exercise2(df):\n",
    "    different_days = df.day.unique()\n",
    "    return len(different_days)\n",
    "\n",
    "assert exercise2(df) == 4\n",
    "print(\"Exercise 2 is complete\")\n"
   ]
  },
  {
   "attachments": {},
   "cell_type": "markdown",
   "id": "8e1f0c50",
   "metadata": {},
   "source": [
    "####  Write a function named `exercise3`\n",
    "- Use the cell below to write your `exercise3` function definition\n",
    "- This function should return the number of rows that represent \"Lunch\" time tables\n",
    "- A \"table\" in this dataset is a single row, representing one bill, _not_ the number of people at that table\n",
    "- This function should accept a dataframe as its input argument"
   ]
  },
  {
   "cell_type": "code",
   "execution_count": 62,
   "id": "6d8f4db4",
   "metadata": {},
   "outputs": [
    {
     "ename": "IndentationError",
     "evalue": "expected an indented block (1027905918.py, line 4)",
     "output_type": "error",
     "traceback": [
      "\u001b[0;36m  Input \u001b[0;32mIn [62]\u001b[0;36m\u001b[0m\n\u001b[0;31m    assert exercise3(df) == 68\u001b[0m\n\u001b[0m    ^\u001b[0m\n\u001b[0;31mIndentationError\u001b[0m\u001b[0;31m:\u001b[0m expected an indented block\n"
     ]
    }
   ],
   "source": [
    "def exercise3(df):\n",
    "    \n",
    "\n",
    "assert exercise3(df) == 68\n",
    "print(\"Exercise 3 is correct\")"
   ]
  },
  {
   "cell_type": "code",
   "execution_count": null,
   "id": "64398f42",
   "metadata": {},
   "outputs": [],
   "source": [
    "lunch_tables = df.time.str.contains('lunch')"
   ]
  },
  {
   "cell_type": "code",
   "execution_count": null,
   "id": "c7c683ce",
   "metadata": {},
   "outputs": [],
   "source": [
    "lunch_tables.count()\n"
   ]
  },
  {
   "attachments": {},
   "cell_type": "markdown",
   "id": "af27ecbb",
   "metadata": {},
   "source": [
    "####  Exercise 4 is a one line of pandas code, not a function\n",
    "- Use the cell below to write the code necessary to rename the `size` column to `table_size` on the `df` variable.\n",
    "- Remember that `.size` is a reserved word in Pandas, so it helps to rename this columns that share a reserved word\n",
    "- Exercise 4 code is not a function, but should be 1 line of pandas code. \n",
    "- Be certain to update the `df` variable or mutate it accordingly, so that `df` has the new column name."
   ]
  },
  {
   "cell_type": "code",
   "execution_count": 63,
   "id": "8233b1f7",
   "metadata": {},
   "outputs": [
    {
     "name": "stdout",
     "output_type": "stream",
     "text": [
      "Exercise 4 is complete\n"
     ]
    }
   ],
   "source": [
    "# Write your pandas code to rename the \"size\" column to \"table_size\"\n",
    "\n",
    "df = df.rename(columns= {'size': 'table_size'})\n",
    "\n",
    "assert df.columns.tolist() == ['total_bill', 'tip', 'sex', 'smoker', 'day', 'time', 'table_size']\n",
    "print(\"Exercise 4 is complete\")"
   ]
  },
  {
   "attachments": {},
   "cell_type": "markdown",
   "id": "422a2034",
   "metadata": {},
   "source": [
    "#### Write a function named `exercise5`\n",
    "- This function should return the proportion of lunch tables out of all tables\n",
    "- A \"table\" in this dataset is a single row, representing one bill, _not_ the number of people at that table\n",
    "- You can use the full decimal or choose to round to 2 decimal places. Either answer will earn credit \n",
    "- This function should accept a dataframe as its input argument"
   ]
  },
  {
   "cell_type": "code",
   "execution_count": null,
   "id": "cc21da47",
   "metadata": {},
   "outputs": [],
   "source": [
    "def exercise5(df):\n",
    "    \n",
    "    \n",
    "assert exercise5(df) in [0.2786885245901639, 0.28]\n",
    "print(\"Exercise 5 is correct\")"
   ]
  }
 ],
 "metadata": {
  "kernelspec": {
   "display_name": "base",
   "language": "python",
   "name": "python3"
  },
  "language_info": {
   "codemirror_mode": {
    "name": "ipython",
    "version": 3
   },
   "file_extension": ".py",
   "mimetype": "text/x-python",
   "name": "python",
   "nbconvert_exporter": "python",
   "pygments_lexer": "ipython3",
   "version": "3.9.12"
  },
  "vscode": {
   "interpreter": {
    "hash": "38cca0c38332a56087b24af0bc80247f4fced29cb4f7f437d91dc159adec9c4e"
   }
  }
 },
 "nbformat": 4,
 "nbformat_minor": 5
}
