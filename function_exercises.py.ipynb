{
 "cells": [
  {
   "cell_type": "code",
   "execution_count": 1,
   "id": "bf3fab1f",
   "metadata": {},
   "outputs": [],
   "source": [
    "# 1. Define a function named is_two. It should accept one input and return True \n",
    "#if the passed input is either the number or the string 2, False otherwise."
   ]
  },
  {
   "cell_type": "code",
   "execution_count": null,
   "id": "45fcfd0d",
   "metadata": {},
   "outputs": [],
   "source": [
    "\n",
    "## add_one = lambda n: n**2\n",
    "## add_one(9)"
   ]
  },
  {
   "cell_type": "code",
   "execution_count": 7,
   "id": "20b386db",
   "metadata": {},
   "outputs": [],
   "source": [
    "def is_two(z):\n",
    "\n",
    "    \n",
    "    if z == '2' or z == 2:\n",
    "        return True\n",
    "    else:\n",
    "        return False"
   ]
  },
  {
   "cell_type": "code",
   "execution_count": 8,
   "id": "70c15784",
   "metadata": {},
   "outputs": [
    {
     "data": {
      "text/plain": [
       "False"
      ]
     },
     "execution_count": 8,
     "metadata": {},
     "output_type": "execute_result"
    }
   ],
   "source": [
    "is_two(3)"
   ]
  },
  {
   "cell_type": "code",
   "execution_count": 2,
   "id": "fda52cf3",
   "metadata": {},
   "outputs": [],
   "source": [
    "# 2. Define a function named is_vowel. It should return True if the passed string \n",
    "#is a vowel, False otherwise."
   ]
  },
  {
   "cell_type": "code",
   "execution_count": 9,
   "id": "028e2223",
   "metadata": {},
   "outputs": [],
   "source": [
    "def is_vowel(string):\n",
    "\n",
    "    \n",
    "    if string in ['a','e','o','i','u']:\n",
    "        return True\n",
    "    else:\n",
    "        return False"
   ]
  },
  {
   "cell_type": "code",
   "execution_count": 13,
   "id": "a56ed44a",
   "metadata": {},
   "outputs": [
    {
     "data": {
      "text/plain": [
       "False"
      ]
     },
     "execution_count": 13,
     "metadata": {},
     "output_type": "execute_result"
    }
   ],
   "source": [
    "is_vowel(\"b\")"
   ]
  },
  {
   "cell_type": "code",
   "execution_count": 3,
   "id": "127a7574",
   "metadata": {},
   "outputs": [],
   "source": [
    "# 3. Define a function named is_consonant. It should return True if the passed \n",
    "#string is a consonant, False otherwise. Use your is_vowel function to accomplish this.\n"
   ]
  },
  {
   "cell_type": "code",
   "execution_count": 14,
   "id": "3b2f9fdf",
   "metadata": {},
   "outputs": [],
   "source": [
    "def is_consonant(string):\n",
    "\n",
    "    \n",
    "    if string in ['a','e','o','i','u']:\n",
    "        return False\n",
    "    else:\n",
    "        return True"
   ]
  },
  {
   "cell_type": "code",
   "execution_count": 17,
   "id": "7f49d791",
   "metadata": {},
   "outputs": [
    {
     "data": {
      "text/plain": [
       "True"
      ]
     },
     "execution_count": 17,
     "metadata": {},
     "output_type": "execute_result"
    }
   ],
   "source": [
    "is_consonant(\"aba\")"
   ]
  },
  {
   "cell_type": "code",
   "execution_count": 34,
   "id": "a5f47604",
   "metadata": {},
   "outputs": [],
   "source": [
    "# 4. Define a function that accepts a string that is a word. The function should \n",
    "#capitalize the first letter of the word if the word starts \n",
    "#with a consonant."
   ]
  },
  {
   "cell_type": "code",
   "execution_count": 23,
   "id": "48df789b",
   "metadata": {},
   "outputs": [],
   "source": [
    "def cap_first_letter(string):\n",
    "    string = string.lower()\n",
    "    if string[0] in ['a','e','o','i','u']:\n",
    "        return string\n",
    "    else:\n",
    "        return string[0].upper() + string[1:]"
   ]
  },
  {
   "cell_type": "code",
   "execution_count": 24,
   "id": "892018ef",
   "metadata": {},
   "outputs": [
    {
     "data": {
      "text/plain": [
       "'Baby'"
      ]
     },
     "execution_count": 24,
     "metadata": {},
     "output_type": "execute_result"
    }
   ],
   "source": [
    "cap_first_letter('baby')"
   ]
  },
  {
   "cell_type": "code",
   "execution_count": 43,
   "id": "0f685b88",
   "metadata": {},
   "outputs": [],
   "source": [
    "# 5. Define a function named calculate_tip. It should accept a tip percentage \n",
    "#(a number between 0 and 1) \n",
    "#and the bill total, and return the amount to tip."
   ]
  },
  {
   "cell_type": "code",
   "execution_count": 47,
   "id": "27202107",
   "metadata": {},
   "outputs": [],
   "source": [
    "def calculate_tip(tip_percentage, bill_total):\n",
    "    return round(tip_percentage * bill_total, 2)\n",
    "    \n",
    "    \n",
    " "
   ]
  },
  {
   "cell_type": "code",
   "execution_count": 48,
   "id": "24e823a6",
   "metadata": {},
   "outputs": [
    {
     "data": {
      "text/plain": [
       "45"
      ]
     },
     "execution_count": 48,
     "metadata": {},
     "output_type": "execute_result"
    }
   ],
   "source": [
    "calculate_tip(1, 45)"
   ]
  },
  {
   "cell_type": "code",
   "execution_count": 26,
   "id": "e0e02dba",
   "metadata": {},
   "outputs": [],
   "source": [
    "# 6. Define a function named apply_discount. It should accept a original price, \n",
    "#and a discount percentage, and return the price after the discount is applied.\n"
   ]
  },
  {
   "cell_type": "code",
   "execution_count": 49,
   "id": "10230ab8",
   "metadata": {},
   "outputs": [],
   "source": [
    "def apply_discount(original_price, discount_percentage):\n",
    "    return round(original_price - (original_price*discount_percentage), 2)"
   ]
  },
  {
   "cell_type": "code",
   "execution_count": 50,
   "id": "415f719e",
   "metadata": {},
   "outputs": [
    {
     "data": {
      "text/plain": [
       "-2755"
      ]
     },
     "execution_count": 50,
     "metadata": {},
     "output_type": "execute_result"
    }
   ],
   "source": [
    "apply_discount(95, 30)"
   ]
  },
  {
   "cell_type": "code",
   "execution_count": 27,
   "id": "d73c7729",
   "metadata": {},
   "outputs": [],
   "source": [
    "# 7. Define a function named handle_commas. It should accept a string that is a number that \n",
    "#contains commas in it as input, and return a number as output."
   ]
  },
  {
   "cell_type": "code",
   "execution_count": null,
   "id": "bc483c2f",
   "metadata": {},
   "outputs": [],
   "source": [
    "def handle_commas(string):\n",
    "    no_commas = \"\"\n",
    "    \n",
    "    if string[0:] in [\",\"]:\n",
    "        return string\n",
    "    else:\n",
    "        return string[0].upper() + string[1:]\n",
    "    "
   ]
  },
  {
   "cell_type": "code",
   "execution_count": null,
   "id": "653372b1",
   "metadata": {},
   "outputs": [],
   "source": [
    "def remove_vowels(string):\n",
    "    no_vowels = \"\"\n",
    "    for letter in string:\n",
    "        if letter.lower() not in ['a','e','o','i','u']:\n",
    "            no_vowels = no_vowels + letter   \n",
    "    return no_vowels"
   ]
  },
  {
   "cell_type": "code",
   "execution_count": 28,
   "id": "48b6a5a1",
   "metadata": {},
   "outputs": [],
   "source": [
    "# 8. Define a function named get_letter_grade. It should accept a number and return \n",
    "#the letter grade associated with that number (A-F)."
   ]
  },
  {
   "cell_type": "code",
   "execution_count": 41,
   "id": "abc7a9ec",
   "metadata": {},
   "outputs": [],
   "source": [
    "def get_letter_grade(grade):\n",
    "    if grade>=88:\n",
    "        print('A')\n",
    "    elif grade>=80:\n",
    "        print('B')\n",
    "    elif grade>=67:\n",
    "        print('C')\n",
    "    elif grade>=60:\n",
    "        print('D')\n",
    "    else:\n",
    "        print('F')"
   ]
  },
  {
   "cell_type": "code",
   "execution_count": 42,
   "id": "2e777e51",
   "metadata": {},
   "outputs": [
    {
     "name": "stdout",
     "output_type": "stream",
     "text": [
      "A\n"
     ]
    }
   ],
   "source": [
    "get_letter_grade(88)"
   ]
  },
  {
   "cell_type": "code",
   "execution_count": 29,
   "id": "40e042a5",
   "metadata": {},
   "outputs": [],
   "source": [
    "# 9. Define a function named remove_vowels that accepts a string and returns a \n",
    "#string with all the vowels removed."
   ]
  },
  {
   "cell_type": "code",
   "execution_count": 32,
   "id": "1ac5f65f",
   "metadata": {},
   "outputs": [],
   "source": [
    "def remove_vowels(string):\n",
    "    no_vowels = \"\"\n",
    "    for letter in string:\n",
    "        if letter.lower() not in ['a','e','o','i','u']:\n",
    "            no_vowels = no_vowels + letter   \n",
    "    return no_vowels"
   ]
  },
  {
   "cell_type": "code",
   "execution_count": 33,
   "id": "a22541a0",
   "metadata": {},
   "outputs": [
    {
     "data": {
      "text/plain": [
       "'bby'"
      ]
     },
     "execution_count": 33,
     "metadata": {},
     "output_type": "execute_result"
    }
   ],
   "source": [
    "remove_vowels(\"baby\")"
   ]
  },
  {
   "cell_type": "code",
   "execution_count": null,
   "id": "08ceeef3",
   "metadata": {},
   "outputs": [],
   "source": [
    "# 10. "
   ]
  }
 ],
 "metadata": {
  "kernelspec": {
   "display_name": "Python 3 (ipykernel)",
   "language": "python",
   "name": "python3"
  },
  "language_info": {
   "codemirror_mode": {
    "name": "ipython",
    "version": 3
   },
   "file_extension": ".py",
   "mimetype": "text/x-python",
   "name": "python",
   "nbconvert_exporter": "python",
   "pygments_lexer": "ipython3",
   "version": "3.9.12"
  }
 },
 "nbformat": 4,
 "nbformat_minor": 5
}
