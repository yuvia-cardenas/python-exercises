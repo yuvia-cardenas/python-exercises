{
 "cells": [
  {
   "cell_type": "code",
   "execution_count": null,
   "id": "e6d22fb1",
   "metadata": {},
   "outputs": [],
   "source": []
  },
  {
   "cell_type": "code",
   "execution_count": null,
   "id": "088053ec",
   "metadata": {},
   "outputs": [],
   "source": []
  },
  {
   "cell_type": "code",
   "execution_count": 45,
   "id": "2031b610",
   "metadata": {},
   "outputs": [],
   "source": [
    "price_in_dollars = 3"
   ]
  },
  {
   "cell_type": "code",
   "execution_count": 44,
   "id": "3c06aa35",
   "metadata": {},
   "outputs": [],
   "source": [
    "kids_movies_days = {'The Little Mermaid' : 3, 'Brother Bear' : 5, 'Hercules' : 1}"
   ]
  },
  {
   "cell_type": "code",
   "execution_count": 46,
   "id": "7b44b78d",
   "metadata": {},
   "outputs": [
    {
     "data": {
      "text/plain": [
       "9"
      ]
     },
     "execution_count": 46,
     "metadata": {},
     "output_type": "execute_result"
    }
   ],
   "source": [
    "kids_movies_days['The Little Mermaid'] * price_in_dollars"
   ]
  },
  {
   "cell_type": "code",
   "execution_count": 47,
   "id": "bf543bf8",
   "metadata": {},
   "outputs": [
    {
     "data": {
      "text/plain": [
       "15"
      ]
     },
     "execution_count": 47,
     "metadata": {},
     "output_type": "execute_result"
    }
   ],
   "source": [
    "kids_movies_days['Brother Bear'] * price_in_dollars"
   ]
  },
  {
   "cell_type": "code",
   "execution_count": 48,
   "id": "f31adfc1",
   "metadata": {},
   "outputs": [
    {
     "data": {
      "text/plain": [
       "3"
      ]
     },
     "execution_count": 48,
     "metadata": {},
     "output_type": "execute_result"
    }
   ],
   "source": [
    "kids_movies_days['Hercules'] * price_in_dollars"
   ]
  },
  {
   "cell_type": "code",
   "execution_count": null,
   "id": "4da4a6e8",
   "metadata": {},
   "outputs": [],
   "source": []
  },
  {
   "cell_type": "code",
   "execution_count": 49,
   "id": "f498c55b",
   "metadata": {},
   "outputs": [],
   "source": [
    "companies_pay = {'Google' : 400, 'Amazon' : 380, 'Facebook' : 350}"
   ]
  },
  {
   "cell_type": "code",
   "execution_count": 50,
   "id": "2ef6250a",
   "metadata": {},
   "outputs": [],
   "source": [
    "companies_hour = {'Google' : 6, 'Amazon' : 4, 'Facebook' : 10}"
   ]
  },
  {
   "cell_type": "code",
   "execution_count": 51,
   "id": "82d6d647",
   "metadata": {},
   "outputs": [],
   "source": [
    "google_total = companies_pay['Google'] * companies_hour['Google']"
   ]
  },
  {
   "cell_type": "code",
   "execution_count": 52,
   "id": "86062cd4",
   "metadata": {},
   "outputs": [
    {
     "name": "stdout",
     "output_type": "stream",
     "text": [
      "2400\n"
     ]
    }
   ],
   "source": [
    "print(google_total)"
   ]
  },
  {
   "cell_type": "code",
   "execution_count": 55,
   "id": "919f89da",
   "metadata": {},
   "outputs": [],
   "source": [
    "facebook_total = companies_pay['Facebook'] * companies_hour['Facebook']"
   ]
  },
  {
   "cell_type": "code",
   "execution_count": 53,
   "id": "51c6af4d",
   "metadata": {},
   "outputs": [],
   "source": [
    "amazon_total = companies_pay['Amazon'] * companies_hour['Amazon']"
   ]
  },
  {
   "cell_type": "code",
   "execution_count": 56,
   "id": "b5eec90e",
   "metadata": {},
   "outputs": [
    {
     "name": "stdout",
     "output_type": "stream",
     "text": [
      "3500\n"
     ]
    }
   ],
   "source": [
    "print(facebook_total)"
   ]
  },
  {
   "cell_type": "code",
   "execution_count": 57,
   "id": "b3774310",
   "metadata": {},
   "outputs": [
    {
     "name": "stdout",
     "output_type": "stream",
     "text": [
      "1520\n"
     ]
    }
   ],
   "source": [
    "print(amazon_total)"
   ]
  },
  {
   "cell_type": "code",
   "execution_count": null,
   "id": "b10971b3",
   "metadata": {},
   "outputs": [],
   "source": []
  },
  {
   "cell_type": "code",
   "execution_count": 67,
   "id": "31b02feb",
   "metadata": {},
   "outputs": [],
   "source": [
    "current_schedule_does_not_conflict = True"
   ]
  },
  {
   "cell_type": "code",
   "execution_count": 68,
   "id": "fefabb97",
   "metadata": {},
   "outputs": [],
   "source": [
    "class_is_not_full = True"
   ]
  },
  {
   "cell_type": "code",
   "execution_count": null,
   "id": "b594ada0",
   "metadata": {},
   "outputs": [],
   "source": []
  },
  {
   "cell_type": "code",
   "execution_count": 69,
   "id": "be015004",
   "metadata": {},
   "outputs": [],
   "source": [
    "student_enrolls = current_schedule_does_not_conflict and class_full"
   ]
  },
  {
   "cell_type": "code",
   "execution_count": 70,
   "id": "0f3c4081",
   "metadata": {},
   "outputs": [
    {
     "name": "stdout",
     "output_type": "stream",
     "text": [
      "True\n"
     ]
    }
   ],
   "source": [
    "print(student_enrolls)"
   ]
  },
  {
   "cell_type": "code",
   "execution_count": null,
   "id": "de8eba89",
   "metadata": {},
   "outputs": [],
   "source": []
  },
  {
   "cell_type": "code",
   "execution_count": 73,
   "id": "ce6ffc24",
   "metadata": {},
   "outputs": [],
   "source": [
    "prime_member = True\n",
    "more_than_two_items = True\n",
    "coupon_not_expired = True"
   ]
  },
  {
   "cell_type": "code",
   "execution_count": 74,
   "id": "eb899412",
   "metadata": {},
   "outputs": [
    {
     "data": {
      "text/plain": [
       "True"
      ]
     },
     "execution_count": 74,
     "metadata": {},
     "output_type": "execute_result"
    }
   ],
   "source": [
    "coupon_not_expired and (more_than_two_items or prime_member)"
   ]
  },
  {
   "cell_type": "code",
   "execution_count": 76,
   "id": "d9e6cbca",
   "metadata": {},
   "outputs": [],
   "source": [
    "username = 'codeup'\n",
    "password = 'notastrongpassword'"
   ]
  },
  {
   "cell_type": "code",
   "execution_count": 77,
   "id": "e3a84b3d",
   "metadata": {},
   "outputs": [
    {
     "ename": "SyntaxError",
     "evalue": "cannot assign to comparison (1723340672.py, line 1)",
     "output_type": "error",
     "traceback": [
      "\u001b[0;36m  Input \u001b[0;32mIn [77]\u001b[0;36m\u001b[0m\n\u001b[0;31m    password >= len(5) = True\u001b[0m\n\u001b[0m    ^\u001b[0m\n\u001b[0;31mSyntaxError\u001b[0m\u001b[0;31m:\u001b[0m cannot assign to comparison\n"
     ]
    }
   ],
   "source": [
    "password >= len(password) = True\n",
    "password != username = True\n",
    "username <= len(20) = True"
   ]
  },
  {
   "cell_type": "code",
   "execution_count": null,
   "id": "62cd1fb8",
   "metadata": {},
   "outputs": [],
   "source": []
  },
  {
   "cell_type": "code",
   "execution_count": null,
   "id": "f82dc68d",
   "metadata": {},
   "outputs": [],
   "source": []
  },
  {
   "cell_type": "code",
   "execution_count": null,
   "id": "9be6fca1",
   "metadata": {},
   "outputs": [],
   "source": []
  },
  {
   "cell_type": "code",
   "execution_count": null,
   "id": "2a71e5f6",
   "metadata": {},
   "outputs": [],
   "source": []
  },
  {
   "cell_type": "code",
   "execution_count": null,
   "id": "66853cdd",
   "metadata": {},
   "outputs": [],
   "source": []
  },
  {
   "cell_type": "code",
   "execution_count": null,
   "id": "84485dcb",
   "metadata": {},
   "outputs": [],
   "source": []
  },
  {
   "cell_type": "code",
   "execution_count": null,
   "id": "57031f7c",
   "metadata": {},
   "outputs": [],
   "source": []
  },
  {
   "cell_type": "code",
   "execution_count": null,
   "id": "ac30dd76",
   "metadata": {},
   "outputs": [],
   "source": []
  },
  {
   "cell_type": "code",
   "execution_count": null,
   "id": "0f0189b1",
   "metadata": {},
   "outputs": [],
   "source": []
  },
  {
   "cell_type": "code",
   "execution_count": null,
   "id": "2751647d",
   "metadata": {},
   "outputs": [],
   "source": []
  },
  {
   "cell_type": "code",
   "execution_count": null,
   "id": "9c08ae67",
   "metadata": {},
   "outputs": [],
   "source": []
  },
  {
   "cell_type": "code",
   "execution_count": null,
   "id": "cf4ad712",
   "metadata": {},
   "outputs": [],
   "source": []
  },
  {
   "cell_type": "code",
   "execution_count": null,
   "id": "5cedbed6",
   "metadata": {},
   "outputs": [],
   "source": []
  },
  {
   "cell_type": "code",
   "execution_count": null,
   "id": "0fb0cac6",
   "metadata": {},
   "outputs": [],
   "source": []
  },
  {
   "cell_type": "code",
   "execution_count": null,
   "id": "ab0b121d",
   "metadata": {},
   "outputs": [],
   "source": []
  },
  {
   "cell_type": "code",
   "execution_count": null,
   "id": "678523b2",
   "metadata": {},
   "outputs": [],
   "source": []
  },
  {
   "cell_type": "code",
   "execution_count": null,
   "id": "b0ed7fb8",
   "metadata": {},
   "outputs": [],
   "source": []
  },
  {
   "cell_type": "code",
   "execution_count": null,
   "id": "aee6ad27",
   "metadata": {},
   "outputs": [],
   "source": []
  },
  {
   "cell_type": "code",
   "execution_count": null,
   "id": "d2f84dae",
   "metadata": {},
   "outputs": [],
   "source": []
  },
  {
   "cell_type": "code",
   "execution_count": null,
   "id": "5955c8c1",
   "metadata": {},
   "outputs": [],
   "source": []
  },
  {
   "cell_type": "code",
   "execution_count": null,
   "id": "25da790a",
   "metadata": {},
   "outputs": [],
   "source": []
  },
  {
   "cell_type": "code",
   "execution_count": null,
   "id": "c9371d29",
   "metadata": {},
   "outputs": [],
   "source": []
  },
  {
   "cell_type": "code",
   "execution_count": null,
   "id": "2cf99538",
   "metadata": {},
   "outputs": [],
   "source": []
  },
  {
   "cell_type": "code",
   "execution_count": null,
   "id": "7608bebc",
   "metadata": {},
   "outputs": [],
   "source": []
  },
  {
   "cell_type": "code",
   "execution_count": null,
   "id": "d3b52698",
   "metadata": {},
   "outputs": [],
   "source": []
  },
  {
   "cell_type": "code",
   "execution_count": null,
   "id": "660cce4b",
   "metadata": {},
   "outputs": [],
   "source": []
  }
 ],
 "metadata": {
  "kernelspec": {
   "display_name": "Python 3 (ipykernel)",
   "language": "python",
   "name": "python3"
  },
  "language_info": {
   "codemirror_mode": {
    "name": "ipython",
    "version": 3
   },
   "file_extension": ".py",
   "mimetype": "text/x-python",
   "name": "python",
   "nbconvert_exporter": "python",
   "pygments_lexer": "ipython3",
   "version": "3.9.12"
  }
 },
 "nbformat": 4,
 "nbformat_minor": 5
}
