{
 "cells": [
  {
   "cell_type": "code",
   "execution_count": 1,
   "id": "a82c8b98",
   "metadata": {},
   "outputs": [
    {
     "name": "stdout",
     "output_type": "stream",
     "text": [
      "Hola\n"
     ]
    }
   ],
   "source": [
    "print('Hola')"
   ]
  },
  {
   "cell_type": "code",
   "execution_count": 3,
   "id": "73d00370",
   "metadata": {},
   "outputs": [],
   "source": [
    "youtuber = 'yuvi'"
   ]
  },
  {
   "cell_type": "code",
   "execution_count": 17,
   "id": "d36d3d75",
   "metadata": {},
   "outputs": [
    {
     "name": "stdout",
     "output_type": "stream",
     "text": [
      "subscribe to yuvi\n"
     ]
    }
   ],
   "source": [
    "print('subscribe to {}'.format(youtuber))"
   ]
  },
  {
   "cell_type": "code",
   "execution_count": 18,
   "id": "49421e30",
   "metadata": {},
   "outputs": [
    {
     "name": "stdout",
     "output_type": "stream",
     "text": [
      "subscribe to yuvi\n"
     ]
    }
   ],
   "source": [
    "print('subscribe to '+ youtuber)"
   ]
  },
  {
   "cell_type": "code",
   "execution_count": 19,
   "id": "5c8aaec1",
   "metadata": {},
   "outputs": [
    {
     "name": "stdout",
     "output_type": "stream",
     "text": [
      "subscribe to yuvi\n"
     ]
    }
   ],
   "source": [
    "print(f'subscribe to {youtuber}')"
   ]
  },
  {
   "cell_type": "markdown",
   "id": "b90280f6",
   "metadata": {},
   "source": [
    "### MADLIB GAME"
   ]
  },
  {
   "cell_type": "code",
   "execution_count": 25,
   "id": "5970e7ee",
   "metadata": {},
   "outputs": [
    {
     "name": "stdout",
     "output_type": "stream",
     "text": [
      "Adjective: NICE\n",
      "Verb: RUN\n",
      "Verb: WALK\n",
      "Famous PersonLUISITO\n",
      "Computer programming is so GREAT! It makes me so excited all the time because I love to PLAY. Stay hydrated and SING like you are JLO!\n"
     ]
    }
   ],
   "source": [
    "madlib = f\"Computer programming is so {adj}! It makes me so excited all the time because I love to {verb1}. Stay hydrated and {verb2} like you are {famous_person}!\"\n",
    "# Varaibles need to be named beforehand, the reason this works is because I ran in seperate cells before \n",
    "# copy & pasting them into one cell\n",
    "adj = input('Adjective: ')\n",
    "verb1 = input('Verb: ')\n",
    "verb2 = input('Verb: ')\n",
    "famous_person = input('Famous Person')\n",
    "print(madlib)"
   ]
  },
  {
   "cell_type": "code",
   "execution_count": 26,
   "id": "c9b197dd",
   "metadata": {},
   "outputs": [],
   "source": [
    "# In the above cell we can see this when we input Luisito and it spit out J-Lo"
   ]
  },
  {
   "cell_type": "code",
   "execution_count": 27,
   "id": "b2e9065a",
   "metadata": {},
   "outputs": [
    {
     "name": "stdout",
     "output_type": "stream",
     "text": [
      "Adjective: NICE\n",
      "Verb: RUN\n",
      "Verb: WALK\n",
      "Famous PersonLUISITO\n",
      "Exercising is so NICE! It makes me so excited all the time because I love to RUN. Stay hydrated and WALK like you are LUISITO!\n"
     ]
    }
   ],
   "source": [
    "adj = input('Adjective: ')\n",
    "verb1 = input('Verb: ')\n",
    "verb2 = input('Verb: ')\n",
    "famous_person = input('Famous Person')\n",
    "madlib1 = f\"Exercising is so {adj}! It makes me so excited all the time because I love to {verb1}. Stay hydrated and {verb2} like you are {famous_person}!\"\n",
    "\n",
    "print(madlib1)"
   ]
  },
  {
   "cell_type": "code",
   "execution_count": 24,
   "id": "900f159d",
   "metadata": {},
   "outputs": [
    {
     "name": "stdout",
     "output_type": "stream",
     "text": [
      "Adjective: NICE\n",
      "Noun: HOME\n",
      "Person: LUIS CALES\n",
      "I love my life it is so NICE! I am the creator of my own HOME! Use your inner being as a LUIS CALES.\n"
     ]
    }
   ],
   "source": [
    "\n",
    "A = input('Adjective: ')\n",
    "B = input('Noun: ')\n",
    "C = input('Person: ')\n",
    "wordplay = f\"I love my life it is so {A}! I am the creator of my own {B}! Use your inner being as a {C}.\"\n",
    "print(wordplay)"
   ]
  },
  {
   "cell_type": "code",
   "execution_count": 14,
   "id": "a11c0417",
   "metadata": {},
   "outputs": [],
   "source": [
    "# In mad lib excerise I like the INPUT command because it allows for the user to fill out the form"
   ]
  },
  {
   "cell_type": "code",
   "execution_count": 15,
   "id": "703991ce",
   "metadata": {},
   "outputs": [],
   "source": [
    "# I also like the curly braces within the f string to call the variables"
   ]
  },
  {
   "cell_type": "markdown",
   "id": "bb545c45",
   "metadata": {},
   "source": [
    "### SECRET NUMBER GAME (COMPUTER)"
   ]
  },
  {
   "cell_type": "code",
   "execution_count": 16,
   "id": "a68bcc1f",
   "metadata": {},
   "outputs": [],
   "source": [
    "import random"
   ]
  },
  {
   "cell_type": "code",
   "execution_count": 35,
   "id": "1fd11199",
   "metadata": {},
   "outputs": [],
   "source": [
    "def guess(x):\n",
    "    random_number = random.randint(1, x)\n",
    "    guess = 0\n",
    "    while guess != random_number:\n",
    "        guess = int(input(f'Guess a number between 1 and {x}: '))\n",
    "        if guess < random_number:\n",
    "            print('Sorry, guess again. Too low.')\n",
    "        elif guess > random_number:\n",
    "            print('Sorry, guess again. Too high.')\n",
    "    print(f'Yay, congrats. You guessed {random_number} correctly!')  \n"
   ]
  },
  {
   "cell_type": "code",
   "execution_count": 36,
   "id": "dfb4ca7e",
   "metadata": {},
   "outputs": [
    {
     "name": "stdout",
     "output_type": "stream",
     "text": [
      "Guess a number between 1 and 10: 6\n",
      "Sorry, guess again. Too high.\n",
      "Guess a number between 1 and 10: 4\n",
      "Sorry, guess again. Too high.\n",
      "Guess a number between 1 and 10: 3\n",
      "Sorry, guess again. Too high.\n",
      "Guess a number between 1 and 10: 2\n",
      "Yay, congrats. You guessed 2 correctly!\n"
     ]
    }
   ],
   "source": [
    "guess(10)"
   ]
  },
  {
   "cell_type": "code",
   "execution_count": 37,
   "id": "3d852908",
   "metadata": {},
   "outputs": [],
   "source": [
    "#     def guess(x):\n",
    "# x is a parameter in the function so we can pass randint thru it within the function\n",
    "# randint takes in a (n, n) number to number range and randomizes a number in the range list\n",
    "\n",
    "#    random_number = random.randint(1, x)\n",
    "# we need to set a variable to the computers selection. random_number equals and calls \n",
    "# the method random.randint and giving it the range of 1 thru x parameters\n",
    "\n",
    "\n",
    "#    guess = 0\n",
    "# guess = 0 is to hold the place for the loop\n",
    "\n",
    "\n",
    "\n",
    "\n",
    "#     while guess != random_number:\n",
    "#        guess = int(input(f'Guess a number between 1 and {x}: '))\n",
    "#        if guess < random_number:\n",
    "#            print('Sorry, guess again. Too low.')\n",
    "#        elif guess > random_number:\n",
    "#            print('Sorry, guess again. Too high.')\n",
    "#    print(f'Yay, congrats. You guessed {random_number} correctly!')  "
   ]
  },
  {
   "cell_type": "code",
   "execution_count": null,
   "id": "4c755323",
   "metadata": {},
   "outputs": [],
   "source": []
  }
 ],
 "metadata": {
  "kernelspec": {
   "display_name": "Python 3 (ipykernel)",
   "language": "python",
   "name": "python3"
  },
  "language_info": {
   "codemirror_mode": {
    "name": "ipython",
    "version": 3
   },
   "file_extension": ".py",
   "mimetype": "text/x-python",
   "name": "python",
   "nbconvert_exporter": "python",
   "pygments_lexer": "ipython3",
   "version": "3.9.12"
  }
 },
 "nbformat": 4,
 "nbformat_minor": 5
}
